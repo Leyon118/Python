{
  "cells": [
    {
      "cell_type": "markdown",
      "metadata": {},
      "source": [
        "# Section 2.4\n",
        "## List Delete\n",
        "- List Creation\n",
        "- List Access\n",
        "- List Append\n",
        "- List Insert\n",
        "- **List Delete (`del`, `.pop()` and `.remove()`)**\n",
        "\n",
        "----- \n",
        "\n",
        "### Student will be able to\n",
        "\n",
        "- Create lists\n",
        "- Access items in a list\n",
        "- Add items to the end of a list\n",
        "- Modify and insert items into a list\n",
        "- **Delete items from a list with `del`, `.pop()` & `.remove()`**"
      ]
    },
    {
      "cell_type": "markdown",
      "metadata": {},
      "source": [
        "## Concept: Delete a specific list index\n",
        "[![view video](https://iajupyterprodblobs.blob.core.windows.net/imagecontainer/common/play_video.png)]( http://edxinteractivepage.blob.core.windows.net/edxpages/f7cff1a7-5601-48a1-95a6-fd1fdfabd20e.html?details=[{\"src\":\"http://jupyternootbookwams.streaming.mediaservices.windows.net/072d8761-7811-438e-a77f-72c9634c0f8c/Unit2_Section2.4a-Deleting_Specific_Index.ism/manifest\",\"type\":\"application/vnd.ms-sstr+xml\"}],[{\"src\":\"http://jupyternootbookwams.streaming.mediaservices.windows.net/072d8761-7811-438e-a77f-72c9634c0f8c/Unit2_Section2.4a-Deleting_Specific_Index.vtt\",\"srclang\":\"en\",\"kind\":\"subtitles\",\"label\":\"english\"}])\n",
        "### `del ` statement  \n",
        "```python\n",
        "del party_list[2]\n",
        "```"
      ]
    },
    {
      "cell_type": "markdown",
      "metadata": {},
      "source": [
        "### Examples"
      ]
    },
    {
      "cell_type": "code",
      "execution_count": 2,
      "metadata": {
        "trusted": false
      },
      "outputs": [
        {
          "name": "stdout",
          "output_type": "stream",
          "text": [
            "sample_list before:  [11, 21, 13, 14, 51, 161, 117, 181]\n",
            "sample_list after:   [11, 13, 14, 51, 161, 117, 181]\n"
          ]
        }
      ],
      "source": [
        "# [ ] review and run example\n",
        "# the list before delete\n",
        "sample_list = [11, 21, 13, 14, 51, 161, 117, 181]\n",
        "print(\"sample_list before: \", sample_list)\n",
        "\n",
        "del sample_list[1]\n",
        "# the list after delete\n",
        "print(\"sample_list after:  \", sample_list)"
      ]
    },
    {
      "cell_type": "code",
      "execution_count": 3,
      "metadata": {
        "trusted": false
      },
      "outputs": [
        {
          "name": "stdout",
          "output_type": "stream",
          "text": [
            "sample_list before: [11, 13, 14, 51, 161, 117, 181]\n",
            "sample_list after: [13, 14, 51, 161, 117, 181]\n"
          ]
        }
      ],
      "source": [
        "# [ ] review and run example Multiple Times\n",
        "# [ ] consider how to reset the list values?\n",
        "print(\"sample_list before:\", sample_list)\n",
        "del sample_list[0]\n",
        "print(\"sample_list after:\", sample_list)"
      ]
    },
    {
      "cell_type": "code",
      "execution_count": 4,
      "metadata": {
        "trusted": false
      },
      "outputs": [
        {
          "name": "stdout",
          "output_type": "stream",
          "text": [
            "mixed_types list:  [1, 'cat', 3]\n",
            "mixed_types list:  [1, 'cat', 3, 'turtle']\n"
          ]
        }
      ],
      "source": [
        "# [ ] review and run example\n",
        "mixed_types = [1, \"cat\"]\n",
        "# append number\n",
        "mixed_types.append(3)\n",
        "print(\"mixed_types list: \", mixed_types)\n",
        "\n",
        "# append string\n",
        "mixed_types.append(\"turtle\")\n",
        "print(\"mixed_types list: \", mixed_types)"
      ]
    },
    {
      "cell_type": "markdown",
      "metadata": {
        "collapsed": true
      },
      "source": [
        "## Task 1: `del` statement"
      ]
    },
    {
      "cell_type": "code",
      "execution_count": 6,
      "metadata": {
        "trusted": false
      },
      "outputs": [
        {
          "name": "stdout",
          "output_type": "stream",
          "text": [
            "['calcaneus', 'talus', 'cuboid', 'navicular', 'lateral cuneiform', 'intermediate cuneiform', 'medial cuneiform']\n",
            "['calcaneus', 'talus', 'navicular', 'lateral cuneiform', 'intermediate cuneiform', 'medial cuneiform']\n"
          ]
        }
      ],
      "source": [
        "# [ ] print ft_bones list\n",
        "# [ ] delete \"cuboid\" from ft_bones\n",
        "# [ ] reprint list\n",
        "ft_bones = [\"calcaneus\", \"talus\", \"cuboid\", \"navicular\", \"lateral cuneiform\", \n",
        "            \"intermediate cuneiform\", \"medial cuneiform\"]\n",
        "print(ft_bones)\n",
        "del ft_bones[2]\n",
        "print(ft_bones)\n",
        "\n"
      ]
    },
    {
      "cell_type": "markdown",
      "metadata": {},
      "source": [
        "## Task 2: Multiple `del` statements "
      ]
    },
    {
      "cell_type": "code",
      "execution_count": 16,
      "metadata": {
        "trusted": false
      },
      "outputs": [
        {
          "name": "stdout",
          "output_type": "stream",
          "text": [
            "['calcaneus', 'talus', 'cuboid', 'navicular', 'lateral cuneiform', 'intermediate cuneiform', 'medial cuneiform']\n",
            "True\n",
            "['calcaneus', 'talus', 'navicular', 'intermediate cuneiform', 'medial cuneiform']\n",
            "False\n"
          ]
        }
      ],
      "source": [
        "# [ ] print ft_bones list\n",
        "# [ ] delete \"cuboid\" from ft_bones\n",
        "# [ ] delete \"navicular\" from list\n",
        "# [ ] reprint list\n",
        "# [ ] check for deletion of \"cuboid\" and \"navicular\"\n",
        "ft_bones = [\"calcaneus\", \"talus\", \"cuboid\", \"navicular\", \"lateral cuneiform\", \n",
        "            \"intermediate cuneiform\", \"medial cuneiform\"]\n",
        "print(ft_bones)\n",
        "print(ft_bones[2]=='cuboid')\n",
        "\n",
        "del ft_bones[2]\n",
        "del ft_bones[3]\n",
        "print(ft_bones)\n",
        "print(ft_bones[2]=='cuboid')\n",
        "\n"
      ]
    },
    {
      "cell_type": "markdown",
      "metadata": {},
      "source": [
        "## Concept: .pop() gets and deletes item in list\n",
        "[![view video](https://iajupyterprodblobs.blob.core.windows.net/imagecontainer/common/play_video.png)]( http://edxinteractivepage.blob.core.windows.net/edxpages/f7cff1a7-5601-48a1-95a6-fd1fdfabd20e.html?details=[{\"src\":\"http://jupyternootbookwams.streaming.mediaservices.windows.net/67b83f30-a92c-4d1f-a7a3-ca257dd4db4e/Unit2_Section2.4b-List_Pop_Method.ism/manifest\",\"type\":\"application/vnd.ms-sstr+xml\"}],[{\"src\":\"http://jupyternootbookwams.streaming.mediaservices.windows.net/67b83f30-a92c-4d1f-a7a3-ca257dd4db4e/Unit2_Section2.4b-List_Pop_Method.vtt\",\"srclang\":\"en\",\"kind\":\"subtitles\",\"label\":\"english\"}])\n",
        "### `.pop()`  method default is last item in a list\n",
        "```python\n",
        "last_item = party_list.pop()\n",
        "first_item = party_list.pop(0)\n",
        "```"
      ]
    },
    {
      "cell_type": "markdown",
      "metadata": {},
      "source": [
        "### Examples"
      ]
    },
    {
      "cell_type": "code",
      "execution_count": 17,
      "metadata": {
        "trusted": false
      },
      "outputs": [
        {
          "name": "stdout",
          "output_type": "stream",
          "text": [
            "['Joana', 'Alton', 'Tobias']\n",
            "Hello, Tobias\n",
            "\n",
            " ['Joana', 'Alton']\n",
            "Hello, Alton\n",
            "\n",
            " ['Joana']\n",
            "Hello, Joana\n",
            "\n",
            " []\n"
          ]
        }
      ],
      "source": [
        "# [ ] review and run example\n",
        "# pop() gets the last item by default\n",
        "party_list = [\"Joana\", \"Alton\", \"Tobias\"]\n",
        "print(party_list)\n",
        "print(\"Hello,\", party_list.pop())\n",
        "\n",
        "print(\"\\n\", party_list)\n",
        "print(\"Hello,\", party_list.pop())\n",
        "\n",
        "print(\"\\n\", party_list)\n",
        "print(\"Hello,\", party_list.pop())\n",
        "\n",
        "print(\"\\n\", party_list)"
      ]
    },
    {
      "cell_type": "code",
      "execution_count": 18,
      "metadata": {
        "trusted": false
      },
      "outputs": [
        {
          "name": "stdout",
          "output_type": "stream",
          "text": [
            "before: [11, 21, 13, 14, 51, 161, 117, 181]\n",
            "after : [11, 21, 13, 51, 161, 117, 181]\n"
          ]
        }
      ],
      "source": [
        "# [ ] review and run example\n",
        "# can pop specific index like pop(3)\n",
        "number_list = [11, 21, 13, 14, 51, 161, 117, 181]\n",
        "print(\"before:\", number_list)\n",
        "number_list.pop(3)\n",
        "print(\"after :\", number_list)\n"
      ]
    },
    {
      "cell_type": "code",
      "execution_count": 19,
      "metadata": {
        "trusted": true
      },
      "outputs": [
        {
          "name": "stdout",
          "output_type": "stream",
          "text": [
            "list before: [11, 21, 13, 14, 51, 161, 117, 181]\n",
            "list after : [11, 21, 13, 14, 51, 161]\n",
            "add the popped values: 181 + 117 = 298\n"
          ]
        }
      ],
      "source": [
        "# [ ] review and run example\n",
        "# set a variable to a poped value\n",
        "number_list = [11, 21, 13, 14, 51, 161, 117, 181]\n",
        "print(\"list before:\", number_list)\n",
        "num_1 = number_list.pop()\n",
        "num_2 = number_list.pop()\n",
        "print(\"list after :\", number_list)\n",
        "print(\"add the popped values:\", num_1, \"+\", num_2, \"=\", num_1 + num_2)"
      ]
    },
    {
      "cell_type": "markdown",
      "metadata": {
        "collapsed": true
      },
      "source": [
        "## Task 3: `pop()`"
      ]
    },
    {
      "cell_type": "code",
      "execution_count": 6,
      "metadata": {
        "trusted": false
      },
      "outputs": [
        {
          "name": "stdout",
          "output_type": "stream",
          "text": [
            "['talus', 'cuboid', 'navicular', 'lateral cuneiform', 'intermediate cuneiform']\n"
          ]
        }
      ],
      "source": [
        "# [ ] pop() and print the first and last items from the ft_bones list\n",
        "ft_bones = [\"calcaneus\", \"talus\", \"cuboid\", \"navicular\", \"lateral cuneiform\", \n",
        "            \"intermediate cuneiform\", \"medial cuneiform\"]\n",
        "ft_bones.pop(0)\n",
        "ft_bones.pop(5)\n",
        "# [ ] print the remaining list\n",
        "print(ft_bones)\n"
      ]
    },
    {
      "cell_type": "markdown",
      "metadata": {},
      "source": [
        "## Concept: An empty list is False\n",
        "[![view video](https://iajupyterprodblobs.blob.core.windows.net/imagecontainer/common/play_video.png)]( http://edxinteractivepage.blob.core.windows.net/edxpages/f7cff1a7-5601-48a1-95a6-fd1fdfabd20e.html?details=[{\"src\":\"http://jupyternootbookwams.streaming.mediaservices.windows.net/20e00a13-a9d2-4a35-b75d-f6533fa15cbd/Unit2_Section2.4c-Empty_List_is_False.ism/manifest\",\"type\":\"application/vnd.ms-sstr+xml\"}],[{\"src\":\"http://jupyternootbookwams.streaming.mediaservices.windows.net/20e00a13-a9d2-4a35-b75d-f6533fa15cbd/Unit2_Section2.4c-Empty_List_is_False.vtt\",\"srclang\":\"en\",\"kind\":\"subtitles\",\"label\":\"english\"}])\n",
        "### in a conditional an empty list will evaluate `False`\n",
        "This allows creating a while loop that runs until a list is empty\n",
        "```python\n",
        "while dog_types: \n",
        "```"
      ]
    },
    {
      "cell_type": "markdown",
      "metadata": {},
      "source": [
        "### Example"
      ]
    },
    {
      "cell_type": "code",
      "execution_count": 9,
      "metadata": {
        "trusted": false
      },
      "outputs": [
        {
          "name": "stdout",
          "output_type": "stream",
          "text": [
            "Poodle\n",
            "Pug\n",
            "Lab\n",
            "[]\n"
          ]
        }
      ],
      "source": [
        "dog_types = [\"Lab\", \"Pug\", \"Poodle\"]\n",
        "\n",
        "while dog_types: \n",
        "    print(dog_types.pop())\n",
        "print(dog_types)"
      ]
    },
    {
      "cell_type": "markdown",
      "metadata": {},
      "source": [
        "## Task 4 (Part 1): Cash Register Input\n",
        "- Create a empty list `purchase_amounts`\n",
        "- Populate the list with user input for the price of items\n",
        "- Continue adding to list with `while` until \"done\" is entered\n",
        "  - Can use `while True:` with `break`\n",
        "- Print `purchase_amounts`\n",
        "- Continue to Part 2"
      ]
    },
    {
      "cell_type": "code",
      "execution_count": 22,
      "metadata": {
        "trusted": false
      },
      "outputs": [
        {
          "name": "stdout",
          "output_type": "stream",
          "text": [
            "['1', '2', '3', '4', '5', '6', '7', '8', '9']\n"
          ]
        }
      ],
      "source": [
        "#[ ] complete the Register Input task above\n",
        "purchase_amounts=[]\n",
        "ans = ()\n",
        "while True:\n",
        "    if ans != 'done':\n",
        "        ans=input('Input prices or \"done\" when finished')\n",
        "        purchase_amounts.append(ans)\n",
        "    else:\n",
        "        break\n",
        "purchase_amounts.pop()\n",
        "print(purchase_amounts)"
      ]
    },
    {
      "cell_type": "markdown",
      "metadata": {},
      "source": [
        "## Task 4 (Part 2): Cash Register Total\n",
        "- Create a **`subtotal`** variable = 0\n",
        "- Create a while loop that runs **`while`** purchase_amount (is not empty)\n",
        "- Inside the loop: \n",
        "  - **`pop()`** the last list value cast as a float type\n",
        "  - Add the float value to a **`subtotal`** variable\n",
        "- After exiting the loop print **`subtotal`**  \n",
        "  \n",
        "  *Be sure to populate purchase_amounts by running Part 1 above.*"
      ]
    },
    {
      "cell_type": "code",
      "execution_count": 25,
      "metadata": {
        "trusted": false
      },
      "outputs": [
        {
          "name": "stdout",
          "output_type": "stream",
          "text": [
            "[]\n",
            "0\n"
          ]
        },
        {
          "name": "stdout",
          "output_type": "stream",
          "text": [
            "\n",
            "IPython -- An enhanced Interactive Python\n",
            "=========================================\n",
            "\n",
            "IPython offers a fully compatible replacement for the standard Python\n",
            "interpreter, with convenient shell features, special commands, command\n",
            "history mechanism and output results caching.\n",
            "\n",
            "At your system command line, type 'ipython -h' to see the command line\n",
            "options available. This document only describes interactive features.\n",
            "\n",
            "GETTING HELP\n",
            "------------\n",
            "\n",
            "Within IPython you have various way to access help:\n",
            "\n",
            "  ?         -> Introduction and overview of IPython's features (this screen).\n",
            "  object?   -> Details about 'object'.\n",
            "  object??  -> More detailed, verbose information about 'object'.\n",
            "  %quickref -> Quick reference of all IPython specific syntax and magics.\n",
            "  help      -> Access Python's own help system.\n",
            "\n",
            "If you are in terminal IPython you can quit this screen by pressing `q`.\n",
            "\n",
            "\n",
            "MAIN FEATURES\n",
            "-------------\n",
            "\n",
            "* Access to the standard Python help with object docstrings and the Python\n",
            "  manuals. Simply type 'help' (no quotes) to invoke it.\n",
            "\n",
            "* Magic commands: type %magic for information on the magic subsystem.\n",
            "\n",
            "* System command aliases, via the %alias command or the configuration file(s).\n",
            "\n",
            "* Dynamic object information:\n",
            "\n",
            "  Typing ?word or word? prints detailed information about an object. Certain\n",
            "  long strings (code, etc.) get snipped in the center for brevity.\n",
            "\n",
            "  Typing ??word or word?? gives access to the full information without\n",
            "  snipping long strings. Strings that are longer than the screen are printed\n",
            "  through the less pager.\n",
            "\n",
            "  The ?/?? system gives access to the full source code for any object (if\n",
            "  available), shows function prototypes and other useful information.\n",
            "\n",
            "  If you just want to see an object's docstring, type '%pdoc object' (without\n",
            "  quotes, and without % if you have automagic on).\n",
            "\n",
            "* Tab completion in the local namespace:\n",
            "\n",
            "  At any time, hitting tab will complete any available python commands or\n",
            "  variable names, and show you a list of the possible completions if there's\n",
            "  no unambiguous one. It will also complete filenames in the current directory.\n",
            "\n",
            "* Search previous command history in multiple ways:\n",
            "\n",
            "  - Start typing, and then use arrow keys up/down or (Ctrl-p/Ctrl-n) to search\n",
            "    through the history items that match what you've typed so far.\n",
            "\n",
            "  - Hit Ctrl-r: opens a search prompt. Begin typing and the system searches\n",
            "    your history for lines that match what you've typed so far, completing as\n",
            "    much as it can.\n",
            "\n",
            "  - %hist: search history by index.\n",
            "\n",
            "* Persistent command history across sessions.\n",
            "\n",
            "* Logging of input with the ability to save and restore a working session.\n",
            "\n",
            "* System shell with !. Typing !ls will run 'ls' in the current directory.\n",
            "\n",
            "* The reload command does a 'deep' reload of a module: changes made to the\n",
            "  module since you imported will actually be available without having to exit.\n",
            "\n",
            "* Verbose and colored exception traceback printouts. See the magic xmode and\n",
            "  xcolor functions for details (just type %magic).\n",
            "\n",
            "* Input caching system:\n",
            "\n",
            "  IPython offers numbered prompts (In/Out) with input and output caching. All\n",
            "  input is saved and can be retrieved as variables (besides the usual arrow\n",
            "  key recall).\n",
            "\n",
            "  The following GLOBAL variables always exist (so don't overwrite them!):\n",
            "  _i: stores previous input.\n",
            "  _ii: next previous.\n",
            "  _iii: next-next previous.\n",
            "  _ih : a list of all input _ih[n] is the input from line n.\n",
            "\n",
            "  Additionally, global variables named _i<n> are dynamically created (<n>\n",
            "  being the prompt counter), such that _i<n> == _ih[<n>]\n",
            "\n",
            "  For example, what you typed at prompt 14 is available as _i14 and _ih[14].\n",
            "\n",
            "  You can create macros which contain multiple input lines from this history,\n",
            "  for later re-execution, with the %macro function.\n",
            "\n",
            "  The history function %hist allows you to see any part of your input history\n",
            "  by printing a range of the _i variables. Note that inputs which contain\n",
            "  magic functions (%) appear in the history with a prepended comment. This is\n",
            "  because they aren't really valid Python code, so you can't exec them.\n",
            "\n",
            "* Output caching system:\n",
            "\n",
            "  For output that is returned from actions, a system similar to the input\n",
            "  cache exists but using _ instead of _i. Only actions that produce a result\n",
            "  (NOT assignments, for example) are cached. If you are familiar with\n",
            "  Mathematica, IPython's _ variables behave exactly like Mathematica's %\n",
            "  variables.\n",
            "\n",
            "  The following GLOBAL variables always exist (so don't overwrite them!):\n",
            "  _ (one underscore): previous output.\n",
            "  __ (two underscores): next previous.\n",
            "  ___ (three underscores): next-next previous.\n",
            "\n",
            "  Global variables named _<n> are dynamically created (<n> being the prompt\n",
            "  counter), such that the result of output <n> is always available as _<n>.\n",
            "\n",
            "  Finally, a global dictionary named _oh exists with entries for all lines\n",
            "  which generated output.\n",
            "\n",
            "* Directory history:\n",
            "\n",
            "  Your history of visited directories is kept in the global list _dh, and the\n",
            "  magic %cd command can be used to go to any entry in that list.\n",
            "\n",
            "* Auto-parentheses and auto-quotes (adapted from Nathan Gray's LazyPython)\n",
            "\n",
            "  1. Auto-parentheses\n",
            "        \n",
            "     Callable objects (i.e. functions, methods, etc) can be invoked like\n",
            "     this (notice the commas between the arguments)::\n",
            "       \n",
            "         In [1]: callable_ob arg1, arg2, arg3\n",
            "       \n",
            "     and the input will be translated to this::\n",
            "       \n",
            "         callable_ob(arg1, arg2, arg3)\n",
            "       \n",
            "     This feature is off by default (in rare cases it can produce\n",
            "     undesirable side-effects), but you can activate it at the command-line\n",
            "     by starting IPython with `--autocall 1`, set it permanently in your\n",
            "     configuration file, or turn on at runtime with `%autocall 1`.\n",
            "\n",
            "     You can force auto-parentheses by using '/' as the first character\n",
            "     of a line.  For example::\n",
            "       \n",
            "          In [1]: /globals             # becomes 'globals()'\n",
            "       \n",
            "     Note that the '/' MUST be the first character on the line!  This\n",
            "     won't work::\n",
            "       \n",
            "          In [2]: print /globals    # syntax error\n",
            "\n",
            "     In most cases the automatic algorithm should work, so you should\n",
            "     rarely need to explicitly invoke /. One notable exception is if you\n",
            "     are trying to call a function with a list of tuples as arguments (the\n",
            "     parenthesis will confuse IPython)::\n",
            "       \n",
            "          In [1]: zip (1,2,3),(4,5,6)  # won't work\n",
            "       \n",
            "     but this will work::\n",
            "       \n",
            "          In [2]: /zip (1,2,3),(4,5,6)\n",
            "          ------> zip ((1,2,3),(4,5,6))\n",
            "          Out[2]= [(1, 4), (2, 5), (3, 6)]\n",
            "\n",
            "     IPython tells you that it has altered your command line by\n",
            "     displaying the new command line preceded by -->.  e.g.::\n",
            "       \n",
            "          In [18]: callable list\n",
            "          -------> callable (list)\n",
            "\n",
            "  2. Auto-Quoting\n",
            "    \n",
            "     You can force auto-quoting of a function's arguments by using ',' as\n",
            "     the first character of a line.  For example::\n",
            "       \n",
            "          In [1]: ,my_function /home/me   # becomes my_function(\"/home/me\")\n",
            "\n",
            "     If you use ';' instead, the whole argument is quoted as a single\n",
            "     string (while ',' splits on whitespace)::\n",
            "       \n",
            "          In [2]: ,my_function a b c   # becomes my_function(\"a\",\"b\",\"c\")\n",
            "          In [3]: ;my_function a b c   # becomes my_function(\"a b c\")\n",
            "\n",
            "     Note that the ',' MUST be the first character on the line!  This\n",
            "     won't work::\n",
            "       \n",
            "          In [4]: x = ,my_function /home/me    # syntax error\n"
          ]
        }
      ],
      "source": [
        "# [ ] complete the Register Total task above\n",
        "subtotal=0\n",
        "print(purchase_amounts)\n",
        "while purchase_amounts:\n",
        "    sub = float(purchase_amounts.pop())\n",
        "    sub += subtotal\n",
        "    print(purchase_amounts)\n",
        "print(subtotal)\n",
        "\n",
        "?\n",
        "\n"
      ]
    },
    {
      "cell_type": "markdown",
      "metadata": {},
      "source": [
        "## Concept: Delete a specific object from a list with `.remove()`\n",
        "[![view video](https://iajupyterprodblobs.blob.core.windows.net/imagecontainer/common/play_video.png)]( http://edxinteractivepage.blob.core.windows.net/edxpages/f7cff1a7-5601-48a1-95a6-fd1fdfabd20e.html?details=[{\"src\":\"http://jupyternootbookwams.streaming.mediaservices.windows.net/31fadf38-670c-4ba9-aa68-1934db459c4d/Unit2_Section2.4d-Removing_Object_from_List.ism/manifest\",\"type\":\"application/vnd.ms-sstr+xml\"}],[{\"src\":\"http://jupyternootbookwams.streaming.mediaservices.windows.net/31fadf38-670c-4ba9-aa68-1934db459c4d/Unit2_Section2.4d-Removing_Object_from_List.vtt\",\"srclang\":\"en\",\"kind\":\"subtitles\",\"label\":\"english\"}])\n",
        "### `.remove(object)` removes the 1st item that matches\n",
        "\n",
        "```python\n",
        "dog_types.remove(\"Pug\")\n",
        "```\n",
        ">**`ValueError`** occurs if the object is not available to be removed.  "
      ]
    },
    {
      "cell_type": "markdown",
      "metadata": {},
      "source": [
        "### Examples"
      ]
    },
    {
      "cell_type": "code",
      "execution_count": 27,
      "metadata": {
        "trusted": false
      },
      "outputs": [
        {
          "name": "stdout",
          "output_type": "stream",
          "text": [
            "['Lab', 'Poodle']\n"
          ]
        }
      ],
      "source": [
        "# [ ] review and run example\n",
        "dog_types = [\"Lab\", \"Pug\", \"Poodle\"]\n",
        "\n",
        "if \"Pug\" in dog_types:\n",
        "    dog_types.remove(\"Pug\")\n",
        "else:\n",
        "    print(\"no Pug found\")\n",
        "print(dog_types)"
      ]
    },
    {
      "cell_type": "code",
      "execution_count": 34,
      "metadata": {
        "trusted": false
      },
      "outputs": [
        {
          "name": "stdout",
          "output_type": "stream",
          "text": [
            "['Lab', 'Pug', 'Poodle', 'Poodle', 'Pug', 'Poodle']\n",
            "['Lab', 'Pug', 'Poodle', 'Pug', 'Poodle']\n",
            "['Lab', 'Pug', 'Pug', 'Poodle']\n",
            "['Lab', 'Pug', 'Pug']\n"
          ]
        }
      ],
      "source": [
        "# [ ] review and run example\n",
        "dogs = [\"Lab\", \"Pug\", \"Poodle\", \"Poodle\", \"Pug\", \"Poodle\"]\n",
        "\n",
        "print(dogs)\n",
        "while \"Poodle\" in dogs:\n",
        "    dogs.remove(\"Poodle\")\n",
        "    print(dogs)"
      ]
    },
    {
      "cell_type": "markdown",
      "metadata": {},
      "source": [
        "### ValueError"
      ]
    },
    {
      "cell_type": "code",
      "execution_count": 33,
      "metadata": {
        "trusted": false
      },
      "outputs": [
        {
          "name": "stdout",
          "output_type": "stream",
          "text": [
            "['Pug', 'Pug']\n"
          ]
        }
      ],
      "source": [
        "# [ ] review and run example\n",
        "# Change to \"Lab\", etc... to fix error\n",
        "dogs.remove(\"Lab\")\n",
        "print(dogs)"
      ]
    },
    {
      "cell_type": "markdown",
      "metadata": {
        "collapsed": true
      },
      "source": [
        "## Task 3: `.remove()`"
      ]
    },
    {
      "cell_type": "code",
      "execution_count": null,
      "metadata": {
        "trusted": false
      },
      "outputs": [],
      "source": [
        "# [ ] remove one \"Poodle\" from the list: dogs , or print \"no Poodle found\"\n",
        "# [ ] print list before and after\n",
        "dogs = [\"Lab\", \"Pug\", \"Poodle\", \"Poodle\", \"Pug\", \"Poodle\"]\n",
        "\n"
      ]
    },
    {
      "cell_type": "markdown",
      "metadata": {},
      "source": [
        "[Terms of use](http://go.microsoft.com/fwlink/?LinkID=206977) &nbsp; [Privacy & cookies](https://go.microsoft.com/fwlink/?LinkId=521839) &nbsp; © 2017 Microsoft"
      ]
    }
  ],
  "metadata": {
    "anaconda-cloud": {},
    "kernelspec": {
      "display_name": "Python 3",
      "language": "python",
      "name": "python3"
    },
    "language_info": {
      "codemirror_mode": {
        "name": "ipython",
        "version": 3
      },
      "file_extension": ".py",
      "mimetype": "text/x-python",
      "name": "python",
      "nbconvert_exporter": "python",
      "pygments_lexer": "ipython3",
      "version": "3.8.13"
    },
    "vscode": {
      "interpreter": {
        "hash": "110cc1dee26208153f2972f08a2ad52b6a56238dc66d48e87fb757ef2996db56"
      }
    }
  },
  "nbformat": 4,
  "nbformat_minor": 1
}
