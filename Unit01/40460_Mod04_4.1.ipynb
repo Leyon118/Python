{
 "cells": [
  {
   "cell_type": "markdown",
   "metadata": {},
   "source": [
    "# Section 4.1\n",
    "## Nested Conditionals\n",
    "- Nested Conditionals  \n",
    "- Escape Sequence print formatting \"\\\\\"\n",
    "\n",
    "-----\n",
    "\n",
    "### Student will be able to\n",
    "- Create nested conditional logic in code  \n",
    "- Format print output using escape \"\\\\\" sequence "
   ]
  },
  {
   "cell_type": "markdown",
   "metadata": {},
   "source": [
    "## Concept: Nested Conditionals\n",
    "[![view video](https://iajupyterprodblobs.blob.core.windows.net/imagecontainer/common/play_video.png)]( http://edxinteractivepage.blob.core.windows.net/edxpages/f7cff1a7-5601-48a1-95a6-fd1fdfabd20e.html?details=[{\"src\":\"http://jupyternootbookwams.streaming.mediaservices.windows.net/16ef1670-d6ca-4104-a923-9bdfd9c3a217/Unit1_Section6.1-nested-conditionals.ism/manifest\",\"type\":\"application/vnd.ms-sstr+xml\"}],[{\"src\":\"http://jupyternootbookwams.streaming.mediaservices.windows.net/16ef1670-d6ca-4104-a923-9bdfd9c3a217/Unit1_Section6.1-nested-conditionals.vtt\",\"srclang\":\"en\",\"kind\":\"subtitles\",\"label\":\"english\"}])\n",
    "### Nested Conditionals\n",
    "**if**  \n",
    "**&nbsp;&nbsp;&nbsp;&nbsp;if**  \n",
    "**&nbsp;&nbsp;&nbsp;&nbsp;&nbsp;&nbsp;&nbsp;&nbsp;if**  \n",
    "**&nbsp;&nbsp;&nbsp;&nbsp;&nbsp;&nbsp;&nbsp;&nbsp;else**  \n",
    "**&nbsp;&nbsp;&nbsp;&nbsp;else**  \n",
    "**else**  \n",
    "\n",
    "### Making a sandwich\n",
    "Taking a sandwich order starts with sandwich choices:\n",
    "> **Cheese or Veggie special?**  \n",
    "If the response is **\"Cheese\"** \"nest\" a subquery:  \n",
    ">> **Manchego or Cheddar?**  \n",
    "  \n",
    "  \n",
    "|Nested &nbsp;**`if`**&nbsp; statement  flowchart  |\n",
    "| ------ | \n",
    "| ![Image of sandwich order flowchart](https://iajupyterprodblobs.blob.core.windows.net/imagecontainer/flowchart_sandwich.png)   | \n"
   ]
  },
  {
   "cell_type": "markdown",
   "metadata": {},
   "source": [
    "### Examples\n",
    "> ***TIP:*** click in input box before typing input "
   ]
  },
  {
   "cell_type": "code",
   "execution_count": 3,
   "metadata": {
    "collapsed": false
   },
   "outputs": [
    {
     "name": "stdout",
     "output_type": "stream",
     "text": [
      "Here is your Cheddar Cheese sandwich\n"
     ]
    }
   ],
   "source": [
    "# simplified example\n",
    "# [ ] review the code then run and following the flowchart paths\n",
    "\n",
    "# ***TIP:*** click in input box before typing\n",
    "\n",
    "sandwich_type = input('\"c\" for Cheese or \"v\" for Veggie Special: ')\n",
    "\n",
    "if sandwich_type.lower() == \"c\":\n",
    "    # select cheese type\n",
    "    cheese_type = input('\"c\" for Cheddar or \"m\" for Manchego: ')\n",
    "    \n",
    "    if cheese_type.lower() == \"c\":\n",
    "        print(\"Here is your Cheddar Cheese sandwich\")\n",
    "    else:\n",
    "        print(\"Here is your Manchego Cheese sandwich\") \n",
    "\n",
    "else:\n",
    "    print(\"Here is your Veggie Special\")"
   ]
  },
  {
   "cell_type": "code",
   "execution_count": 5,
   "metadata": {
    "collapsed": false
   },
   "outputs": [
    {
     "name": "stdout",
     "output_type": "stream",
     "text": [
      "Hi, welcome to the sandwich shop.  Please select a sandwich.\n",
      "\n",
      "Please select a cheese.\n",
      "\n",
      "Sorry, we don't have l choice today.\n",
      "\n",
      "Goodbye!\n"
     ]
    }
   ],
   "source": [
    "# full example: handling some invalid input and elif statement\n",
    "# [ ] review the code then run following the flowchart paths including **invalid responses** like \"xyz123\"\n",
    "\n",
    "# ***TIP:*** click in input box before typing\n",
    "\n",
    "print(\"Hi, welcome to the sandwich shop.  Please select a sandwich.\")\n",
    "sandwich_type = input('\"c\" for Cheese or \"v\" for Veggie Special: ')\n",
    "# select sandwich type sandwich_type = input('\"c\" for Cheese or \"v\" for Veggie Special: ')\n",
    "print()\n",
    "    \n",
    "if sandwich_type.lower() == \"c\":\n",
    "    # select cheese type\n",
    "    print(\"Please select a cheese.\")\n",
    "    cheese_type = input('\"c\" for Cheddar or \"m\" for Manchego: ')\n",
    "    print()\n",
    "    \n",
    "    if cheese_type.lower() == \"c\":\n",
    "        print(\"Here is your Cheddar Cheese sandwich.  Thank you.\")\n",
    "    elif cheese_type.lower() == \"m\":\n",
    "        print(\"Here is your Manchego Cheese sandwich.  Thank you.\") \n",
    "    else:\n",
    "        print(\"Sorry, we don't have\", cheese_type, \"choice today.\")\n",
    "\n",
    "elif sandwich_type.lower() == \"v\":\n",
    "    print(\"Here is your Veggie Special. Thank you.\")\n",
    "        \n",
    "else:\n",
    "    print(\"Sorry, we don't have\", sandwich_type, \"choice today.\")\n",
    "print()\n",
    "print(\"Goodbye!\")\n"
   ]
  },
  {
   "cell_type": "markdown",
   "metadata": {},
   "source": [
    "## Task 1: Nested `if` \n",
    "### [ ] Program: Say \"Hello\"\n",
    "- using nested **`if`**\n",
    "  \n",
    "|Say \"Hello\" flowchart  |\n",
    "| ------ | \n",
    "|  ![Image: Say \"Hello\" flowchart](https://iajupyterprodblobs.blob.core.windows.net/imagecontainer/flowchart_say_hello.png) | "
   ]
  },
  {
   "cell_type": "code",
   "execution_count": 83,
   "metadata": {
    "collapsed": false
   },
   "outputs": [
    {
     "name": "stdout",
     "output_type": "stream",
     "text": [
      "HELLO!\n",
      "Incomprehensible\n",
      "\n",
      "Goodbye!\n",
      "HAHAHA!\n"
     ]
    }
   ],
   "source": [
    "# [ ] Say \"Hello\" with nested if\n",
    "# [ ] Challenge: handle input other than y/n\n",
    "import time\n",
    "print('HELLO!')\n",
    "comf=input('Do you feel welcome?')\n",
    "\n",
    "if comf.lower() =='y':\n",
    "    print('VERY GOOD!:)')\n",
    "elif comf.lower()=='n':\n",
    "    print('Interesting...')\n",
    "    comf_2=input('HOW ABOUT NOOWW!!')\n",
    "    if comf_2=='y':\n",
    "            print('I KNEW YOU COULD OVERCOME THIS! WELLDONE')\n",
    "    elif comf_2=='n':\n",
    "            print('How disappointing.')\n",
    "            time.sleep(2)\n",
    "            print('How...')\n",
    "            time.sleep(1)\n",
    "            print('Uninteresting')              \n",
    "    else:\n",
    "        pass\n",
    "else:\n",
    "        print('Incomprehensible')\n",
    "        time.sleep(5)\n",
    "        \n",
    "print(\"\\nGoodbye!\\nHAHAHA!\")"
   ]
  },
  {
   "cell_type": "markdown",
   "metadata": {},
   "source": [
    "## Task 2: Nested `if` - testing for `False`\n",
    "### Program:  [ ] 3 Guesses\n",
    "- Use nested if statements complete the flowchart code\n",
    "- Create a **`birds`** string variable with the names of 1, 2, 3 or more birds to make it easier\n",
    "- Get **`bird_guess`** input and use **`bird_guess in bird_names`** to generate Boolean True/False\n",
    "- If the the guess is wrong (**`False`**) create a subtest until the user has had 3 guesses\n",
    "  \n",
    "|3 Guesses (\"Guess the Bird\") flowchart  |\n",
    "| ------ | \n",
    "| ![Image of Guess the Bird flowchart](https://iajupyterprodblobs.blob.core.windows.net/imagecontainer/flowchart_guess_the_bird.png)   | "
   ]
  },
  {
   "cell_type": "code",
   "execution_count": 72,
   "metadata": {
    "collapsed": false
   },
   "outputs": [
    {
     "name": "stdout",
     "output_type": "stream",
     "text": [
      "Welcome to the bird guessing game!\n",
      "Incorrect!\n",
      "Incorrect!\n",
      "Unlucky all attempts are INCORRECT!\n"
     ]
    }
   ],
   "source": [
    "# [ ] Create the \"Guess the bird\" program \n",
    "bird_name = ('pigeon', 'hawk', 'eagle')\n",
    "print('Welcome to the bird guessing game!')\n",
    "bird_guess=input(\"You have 3 Guesses... Start\")\n",
    "i=2\n",
    "while i>0:\n",
    "    if bird_guess.lower() in bird_name:\n",
    "        print('Well done!')\n",
    "        i-=4\n",
    "        if i<0:\n",
    "            print('CONGRATULATIONS! WE HAVE A WINNER')\n",
    "        else:\n",
    "            pass\n",
    "            \n",
    "    elif bird_guess.lower() not in bird_name:\n",
    "        print('Incorrect!')\n",
    "        i-=1\n",
    "        bird_guess=input('Try again!')\n",
    "        \n",
    "        if i==0:\n",
    "                print('Unlucky all attempts are INCORRECT!')\n",
    "        else:\n",
    "            pass\n",
    "    else:\n",
    "        pass\n"
   ]
  },
  {
   "cell_type": "code",
   "execution_count": null,
   "metadata": {},
   "outputs": [],
   "source": [
    "bird_name = ('pigeon', 'hawk', 'eagle')\n",
    "print('Welcome to the bird guessing game!')\n",
    "bird_guess=input(\"You have 3 Guesses... Start\")\n",
    "i=2\n",
    "while i>0:\n",
    "    if bird_guess in bird_name"
   ]
  },
  {
   "cell_type": "markdown",
   "metadata": {},
   "source": [
    "[Terms of use](http://go.microsoft.com/fwlink/?LinkID=206977) &nbsp; [Privacy & cookies](https://go.microsoft.com/fwlink/?LinkId=521839) &nbsp; © 2017 Microsoft"
   ]
  },
  {
   "cell_type": "code",
   "execution_count": 74,
   "metadata": {},
   "outputs": [
    {
     "name": "stdout",
     "output_type": "stream",
     "text": [
      "\n"
     ]
    }
   ],
   "source": [
    "print(bird_guess)"
   ]
  }
 ],
 "metadata": {
  "anaconda-cloud": {},
  "kernelspec": {
   "display_name": "Python 3",
   "language": "python",
   "name": "python3"
  },
  "language_info": {
   "codemirror_mode": {
    "name": "ipython",
    "version": 3
   },
   "file_extension": ".py",
   "mimetype": "text/x-python",
   "name": "python",
   "nbconvert_exporter": "python",
   "pygments_lexer": "ipython3",
   "version": "3.8.13"
  },
  "vscode": {
   "interpreter": {
    "hash": "9ac03a0a6051494cc606d484d27d20fce22fb7b4d169f583271e11d5ba46a56e"
   }
  }
 },
 "nbformat": 4,
 "nbformat_minor": 1
}
